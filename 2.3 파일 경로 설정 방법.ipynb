{
 "cells": [
  {
   "cell_type": "markdown",
   "id": "ccb0880d-75db-45c7-8d5e-5a03827333bd",
   "metadata": {},
   "source": [
    "# 1 절대 경로\n",
    "* 고유한 경로로 최상위 디렉토리가 포함된 경로"
   ]
  },
  {
   "cell_type": "markdown",
   "id": "2c329c6c-2050-4ea4-a2dd-e5942501ea83",
   "metadata": {},
   "source": [
    "# 2 상대 경로\n",
    "* 현재 위치한 곳을 기준으로 하는 경로\n",
    "* /는 루트\n",
    "* ./는 현재 위치\n",
    "* ../는 현재 위치의 상위 폴더\n",
    "* ../../는 두단계 위의 상위 폴더를 의미"
   ]
  },
  {
   "cell_type": "code",
   "execution_count": 1,
   "id": "1f55c3a1-37b4-402e-93e4-eab0a9a0f460",
   "metadata": {},
   "outputs": [
    {
     "data": {
      "text/plain": [
       "'/Users/haesung/Documents/코칭스터디 부스트캠프'"
      ]
     },
     "execution_count": 1,
     "metadata": {},
     "output_type": "execute_result"
    }
   ],
   "source": [
    "#실습 파일 경로 확인\n",
    "%pwd"
   ]
  },
  {
   "cell_type": "code",
   "execution_count": 2,
   "id": "0ff949b3-5695-4e61-92db-2ebe968c6bd6",
   "metadata": {},
   "outputs": [
    {
     "data": {
      "text/plain": [
       "'/Users/haesung/Documents/코칭스터디 부스트캠프'"
      ]
     },
     "execution_count": 2,
     "metadata": {},
     "output_type": "execute_result"
    }
   ],
   "source": [
    "import os\n",
    "os.getcwd()"
   ]
  },
  {
   "cell_type": "code",
   "execution_count": 9,
   "id": "1513988c-9581-45c3-81e3-c81c9173cd75",
   "metadata": {},
   "outputs": [
    {
     "data": {
      "text/plain": [
       "'data/도로교통공단_월별 주야별 교통사고 통계_20231231.csv'"
      ]
     },
     "execution_count": 9,
     "metadata": {},
     "output_type": "execute_result"
    }
   ],
   "source": [
    "#유닉스 스타일의 경로명 패턴 확장\n",
    "from glob import glob \n",
    "file_name = glob(\"data/*\")[0] #data파일의 모든 파일을 가져오기 #[0]를 사용해서 문자열로 저장\n",
    "file_name"
   ]
  },
  {
   "cell_type": "code",
   "execution_count": 3,
   "id": "90e81096-474c-42ce-9089-159986726f9f",
   "metadata": {},
   "outputs": [],
   "source": [
    "\n",
    "import pandas as pd"
   ]
  },
  {
   "cell_type": "code",
   "execution_count": 5,
   "id": "dea0f31a-b7d4-4818-bfb9-d9368716a502",
   "metadata": {},
   "outputs": [
    {
     "data": {
      "text/html": [
       "<div>\n",
       "<style scoped>\n",
       "    .dataframe tbody tr th:only-of-type {\n",
       "        vertical-align: middle;\n",
       "    }\n",
       "\n",
       "    .dataframe tbody tr th {\n",
       "        vertical-align: top;\n",
       "    }\n",
       "\n",
       "    .dataframe thead th {\n",
       "        text-align: right;\n",
       "    }\n",
       "</style>\n",
       "<table border=\"1\" class=\"dataframe\">\n",
       "  <thead>\n",
       "    <tr style=\"text-align: right;\">\n",
       "      <th></th>\n",
       "      <th>발생월</th>\n",
       "      <th>주야</th>\n",
       "      <th>사고건수</th>\n",
       "      <th>사망자수</th>\n",
       "      <th>중상자수</th>\n",
       "      <th>경상자수</th>\n",
       "      <th>부상신고자수</th>\n",
       "    </tr>\n",
       "  </thead>\n",
       "  <tbody>\n",
       "    <tr>\n",
       "      <th>0</th>\n",
       "      <td>1</td>\n",
       "      <td>주</td>\n",
       "      <td>8682</td>\n",
       "      <td>98</td>\n",
       "      <td>2209</td>\n",
       "      <td>9440</td>\n",
       "      <td>759</td>\n",
       "    </tr>\n",
       "    <tr>\n",
       "      <th>1</th>\n",
       "      <td>1</td>\n",
       "      <td>야</td>\n",
       "      <td>5798</td>\n",
       "      <td>92</td>\n",
       "      <td>1539</td>\n",
       "      <td>6349</td>\n",
       "      <td>530</td>\n",
       "    </tr>\n",
       "    <tr>\n",
       "      <th>2</th>\n",
       "      <td>2</td>\n",
       "      <td>주</td>\n",
       "      <td>8056</td>\n",
       "      <td>95</td>\n",
       "      <td>2149</td>\n",
       "      <td>8710</td>\n",
       "      <td>710</td>\n",
       "    </tr>\n",
       "    <tr>\n",
       "      <th>3</th>\n",
       "      <td>2</td>\n",
       "      <td>야</td>\n",
       "      <td>5228</td>\n",
       "      <td>86</td>\n",
       "      <td>1419</td>\n",
       "      <td>5553</td>\n",
       "      <td>500</td>\n",
       "    </tr>\n",
       "    <tr>\n",
       "      <th>4</th>\n",
       "      <td>3</td>\n",
       "      <td>주</td>\n",
       "      <td>10393</td>\n",
       "      <td>109</td>\n",
       "      <td>2600</td>\n",
       "      <td>11132</td>\n",
       "      <td>880</td>\n",
       "    </tr>\n",
       "    <tr>\n",
       "      <th>5</th>\n",
       "      <td>3</td>\n",
       "      <td>야</td>\n",
       "      <td>5607</td>\n",
       "      <td>78</td>\n",
       "      <td>1449</td>\n",
       "      <td>5930</td>\n",
       "      <td>467</td>\n",
       "    </tr>\n",
       "    <tr>\n",
       "      <th>6</th>\n",
       "      <td>4</td>\n",
       "      <td>주</td>\n",
       "      <td>10460</td>\n",
       "      <td>93</td>\n",
       "      <td>2797</td>\n",
       "      <td>11356</td>\n",
       "      <td>1055</td>\n",
       "    </tr>\n",
       "    <tr>\n",
       "      <th>7</th>\n",
       "      <td>4</td>\n",
       "      <td>야</td>\n",
       "      <td>5876</td>\n",
       "      <td>89</td>\n",
       "      <td>1609</td>\n",
       "      <td>6181</td>\n",
       "      <td>551</td>\n",
       "    </tr>\n",
       "    <tr>\n",
       "      <th>8</th>\n",
       "      <td>5</td>\n",
       "      <td>주</td>\n",
       "      <td>11668</td>\n",
       "      <td>135</td>\n",
       "      <td>3132</td>\n",
       "      <td>12618</td>\n",
       "      <td>1178</td>\n",
       "    </tr>\n",
       "    <tr>\n",
       "      <th>9</th>\n",
       "      <td>5</td>\n",
       "      <td>야</td>\n",
       "      <td>5884</td>\n",
       "      <td>68</td>\n",
       "      <td>1576</td>\n",
       "      <td>6233</td>\n",
       "      <td>603</td>\n",
       "    </tr>\n",
       "    <tr>\n",
       "      <th>10</th>\n",
       "      <td>6</td>\n",
       "      <td>주</td>\n",
       "      <td>10962</td>\n",
       "      <td>114</td>\n",
       "      <td>2881</td>\n",
       "      <td>11797</td>\n",
       "      <td>1092</td>\n",
       "    </tr>\n",
       "    <tr>\n",
       "      <th>11</th>\n",
       "      <td>6</td>\n",
       "      <td>야</td>\n",
       "      <td>5754</td>\n",
       "      <td>88</td>\n",
       "      <td>1601</td>\n",
       "      <td>5893</td>\n",
       "      <td>613</td>\n",
       "    </tr>\n",
       "    <tr>\n",
       "      <th>12</th>\n",
       "      <td>7</td>\n",
       "      <td>주</td>\n",
       "      <td>10647</td>\n",
       "      <td>105</td>\n",
       "      <td>2755</td>\n",
       "      <td>11552</td>\n",
       "      <td>1138</td>\n",
       "    </tr>\n",
       "    <tr>\n",
       "      <th>13</th>\n",
       "      <td>7</td>\n",
       "      <td>야</td>\n",
       "      <td>5931</td>\n",
       "      <td>100</td>\n",
       "      <td>1554</td>\n",
       "      <td>6165</td>\n",
       "      <td>549</td>\n",
       "    </tr>\n",
       "    <tr>\n",
       "      <th>14</th>\n",
       "      <td>8</td>\n",
       "      <td>주</td>\n",
       "      <td>11185</td>\n",
       "      <td>136</td>\n",
       "      <td>2990</td>\n",
       "      <td>12252</td>\n",
       "      <td>1111</td>\n",
       "    </tr>\n",
       "    <tr>\n",
       "      <th>15</th>\n",
       "      <td>8</td>\n",
       "      <td>야</td>\n",
       "      <td>6027</td>\n",
       "      <td>110</td>\n",
       "      <td>1632</td>\n",
       "      <td>6287</td>\n",
       "      <td>641</td>\n",
       "    </tr>\n",
       "    <tr>\n",
       "      <th>16</th>\n",
       "      <td>9</td>\n",
       "      <td>주</td>\n",
       "      <td>11458</td>\n",
       "      <td>130</td>\n",
       "      <td>3063</td>\n",
       "      <td>12396</td>\n",
       "      <td>1119</td>\n",
       "    </tr>\n",
       "    <tr>\n",
       "      <th>17</th>\n",
       "      <td>9</td>\n",
       "      <td>야</td>\n",
       "      <td>6402</td>\n",
       "      <td>109</td>\n",
       "      <td>1777</td>\n",
       "      <td>6559</td>\n",
       "      <td>737</td>\n",
       "    </tr>\n",
       "    <tr>\n",
       "      <th>18</th>\n",
       "      <td>10</td>\n",
       "      <td>주</td>\n",
       "      <td>11039</td>\n",
       "      <td>141</td>\n",
       "      <td>3186</td>\n",
       "      <td>11609</td>\n",
       "      <td>1102</td>\n",
       "    </tr>\n",
       "    <tr>\n",
       "      <th>19</th>\n",
       "      <td>10</td>\n",
       "      <td>야</td>\n",
       "      <td>6294</td>\n",
       "      <td>124</td>\n",
       "      <td>1814</td>\n",
       "      <td>6383</td>\n",
       "      <td>559</td>\n",
       "    </tr>\n",
       "    <tr>\n",
       "      <th>20</th>\n",
       "      <td>11</td>\n",
       "      <td>주</td>\n",
       "      <td>11397</td>\n",
       "      <td>139</td>\n",
       "      <td>3143</td>\n",
       "      <td>12183</td>\n",
       "      <td>1081</td>\n",
       "    </tr>\n",
       "    <tr>\n",
       "      <th>21</th>\n",
       "      <td>11</td>\n",
       "      <td>야</td>\n",
       "      <td>6351</td>\n",
       "      <td>118</td>\n",
       "      <td>1706</td>\n",
       "      <td>6565</td>\n",
       "      <td>620</td>\n",
       "    </tr>\n",
       "    <tr>\n",
       "      <th>22</th>\n",
       "      <td>12</td>\n",
       "      <td>주</td>\n",
       "      <td>10540</td>\n",
       "      <td>107</td>\n",
       "      <td>2691</td>\n",
       "      <td>11407</td>\n",
       "      <td>1003</td>\n",
       "    </tr>\n",
       "    <tr>\n",
       "      <th>23</th>\n",
       "      <td>12</td>\n",
       "      <td>야</td>\n",
       "      <td>6657</td>\n",
       "      <td>87</td>\n",
       "      <td>1717</td>\n",
       "      <td>7019</td>\n",
       "      <td>643</td>\n",
       "    </tr>\n",
       "  </tbody>\n",
       "</table>\n",
       "</div>"
      ],
      "text/plain": [
       "    발생월 주야   사고건수  사망자수  중상자수   경상자수  부상신고자수\n",
       "0     1  주   8682    98  2209   9440     759\n",
       "1     1  야   5798    92  1539   6349     530\n",
       "2     2  주   8056    95  2149   8710     710\n",
       "3     2  야   5228    86  1419   5553     500\n",
       "4     3  주  10393   109  2600  11132     880\n",
       "5     3  야   5607    78  1449   5930     467\n",
       "6     4  주  10460    93  2797  11356    1055\n",
       "7     4  야   5876    89  1609   6181     551\n",
       "8     5  주  11668   135  3132  12618    1178\n",
       "9     5  야   5884    68  1576   6233     603\n",
       "10    6  주  10962   114  2881  11797    1092\n",
       "11    6  야   5754    88  1601   5893     613\n",
       "12    7  주  10647   105  2755  11552    1138\n",
       "13    7  야   5931   100  1554   6165     549\n",
       "14    8  주  11185   136  2990  12252    1111\n",
       "15    8  야   6027   110  1632   6287     641\n",
       "16    9  주  11458   130  3063  12396    1119\n",
       "17    9  야   6402   109  1777   6559     737\n",
       "18   10  주  11039   141  3186  11609    1102\n",
       "19   10  야   6294   124  1814   6383     559\n",
       "20   11  주  11397   139  3143  12183    1081\n",
       "21   11  야   6351   118  1706   6565     620\n",
       "22   12  주  10540   107  2691  11407    1003\n",
       "23   12  야   6657    87  1717   7019     643"
      ]
     },
     "execution_count": 5,
     "metadata": {},
     "output_type": "execute_result"
    }
   ],
   "source": [
    "#데이터 파일 불러오기 - 상대 경로\n",
    "#UnicodeDecodeError : 인코딩 에러\n",
    "pd.read_csv(\"data/도로교통공단_월별 주야별 교통사고 통계_20231231.csv\",encoding = \"cp949\")"
   ]
  },
  {
   "cell_type": "markdown",
   "id": "b8e405f4-1aa9-40bf-b490-d52e4d4d60c4",
   "metadata": {},
   "source": [
    "## 3 여러 파일을 한번에 로드하는 방법"
   ]
  },
  {
   "cell_type": "code",
   "execution_count": 15,
   "id": "73d93898-02d4-4a50-97a1-d024a4e057d7",
   "metadata": {},
   "outputs": [
    {
     "data": {
      "text/plain": [
       "['data/store/소상공인시장진흥공단_상가(상권)정보_부산_202403.csv',\n",
       " 'data/store/소상공인시장진흥공단_상가(상권)정보_대구_202403.csv',\n",
       " 'data/store/소상공인시장진흥공단_상가(상권)정보_세종_202403.csv',\n",
       " 'data/store/소상공인시장진흥공단_상가(상권)정보_제주_202403.csv',\n",
       " 'data/store/소상공인시장진흥공단_상가(상권)정보_대전_202403.csv',\n",
       " 'data/store/소상공인시장진흥공단_상가(상권)정보_서울_202403.csv',\n",
       " 'data/store/소상공인시장진흥공단_상가(상권)정보_경기_202403.csv',\n",
       " 'data/store/소상공인시장진흥공단_상가(상권)정보_울산_202403.csv',\n",
       " 'data/store/소상공인시장진흥공단_상가(상권)정보_충북_202403.csv',\n",
       " 'data/store/소상공인시장진흥공단_상가(상권)정보_충남_202403.csv',\n",
       " 'data/store/소상공인시장진흥공단_상가(상권)정보_강원_202403.csv',\n",
       " 'data/store/소상공인시장진흥공단_상가(상권)정보_광주_202403.csv',\n",
       " 'data/store/소상공인시장진흥공단_상가(상권)정보_전북_202403.csv',\n",
       " 'data/store/소상공인시장진흥공단_상가(상권)정보_경북_202403.csv',\n",
       " 'data/store/소상공인시장진흥공단_상가(상권)정보_인천_202403.csv',\n",
       " 'data/store/소상공인시장진흥공단_상가(상권)정보_경남_202403.csv',\n",
       " 'data/store/소상공인시장진흥공단_상가(상권)정보_전남_202403.csv']"
      ]
     },
     "execution_count": 15,
     "metadata": {},
     "output_type": "execute_result"
    }
   ],
   "source": [
    "file_csv = glob(\"data/store/*_*_*.csv\") #파일 규칙을 정해서 가져올 수 있음\n",
    "file_csv #실제 파일이 아니라 이름만 가져온것임"
   ]
  },
  {
   "cell_type": "code",
   "execution_count": 11,
   "id": "bd237739-fb38-4599-a4ea-448c602fad9d",
   "metadata": {},
   "outputs": [],
   "source": [
    "#한글 파일의 경우 인코딩 방식의 차이가 있음"
   ]
  },
  {
   "cell_type": "code",
   "execution_count": 18,
   "id": "3e941df1-cc81-4f99-999d-5d50cd18e716",
   "metadata": {},
   "outputs": [
    {
     "name": "stdout",
     "output_type": "stream",
     "text": [
      "data/store/소상공인시장진흥공단_상가(상권)정보_부산_202403.csv\n"
     ]
    },
    {
     "name": "stderr",
     "output_type": "stream",
     "text": [
      "/var/folders/zv/8q9mx6qj2hqfytkj6_bjp56h0000gn/T/ipykernel_52879/4249112912.py:4: DtypeWarning: Columns (2) have mixed types. Specify dtype option on import or set low_memory=False.\n",
      "  temp = pd.read_csv(file_csv_name)\n"
     ]
    },
    {
     "name": "stdout",
     "output_type": "stream",
     "text": [
      "data/store/소상공인시장진흥공단_상가(상권)정보_대구_202403.csv\n"
     ]
    },
    {
     "name": "stderr",
     "output_type": "stream",
     "text": [
      "/var/folders/zv/8q9mx6qj2hqfytkj6_bjp56h0000gn/T/ipykernel_52879/4249112912.py:4: DtypeWarning: Columns (2) have mixed types. Specify dtype option on import or set low_memory=False.\n",
      "  temp = pd.read_csv(file_csv_name)\n"
     ]
    },
    {
     "name": "stdout",
     "output_type": "stream",
     "text": [
      "data/store/소상공인시장진흥공단_상가(상권)정보_세종_202403.csv\n",
      "data/store/소상공인시장진흥공단_상가(상권)정보_제주_202403.csv\n"
     ]
    },
    {
     "name": "stderr",
     "output_type": "stream",
     "text": [
      "/var/folders/zv/8q9mx6qj2hqfytkj6_bjp56h0000gn/T/ipykernel_52879/4249112912.py:4: DtypeWarning: Columns (2) have mixed types. Specify dtype option on import or set low_memory=False.\n",
      "  temp = pd.read_csv(file_csv_name)\n"
     ]
    },
    {
     "name": "stdout",
     "output_type": "stream",
     "text": [
      "data/store/소상공인시장진흥공단_상가(상권)정보_대전_202403.csv\n"
     ]
    },
    {
     "name": "stderr",
     "output_type": "stream",
     "text": [
      "/var/folders/zv/8q9mx6qj2hqfytkj6_bjp56h0000gn/T/ipykernel_52879/4249112912.py:4: DtypeWarning: Columns (2) have mixed types. Specify dtype option on import or set low_memory=False.\n",
      "  temp = pd.read_csv(file_csv_name)\n"
     ]
    },
    {
     "name": "stdout",
     "output_type": "stream",
     "text": [
      "data/store/소상공인시장진흥공단_상가(상권)정보_서울_202403.csv\n"
     ]
    },
    {
     "name": "stderr",
     "output_type": "stream",
     "text": [
      "/var/folders/zv/8q9mx6qj2hqfytkj6_bjp56h0000gn/T/ipykernel_52879/4249112912.py:4: DtypeWarning: Columns (2) have mixed types. Specify dtype option on import or set low_memory=False.\n",
      "  temp = pd.read_csv(file_csv_name)\n"
     ]
    },
    {
     "name": "stdout",
     "output_type": "stream",
     "text": [
      "data/store/소상공인시장진흥공단_상가(상권)정보_경기_202403.csv\n"
     ]
    },
    {
     "name": "stderr",
     "output_type": "stream",
     "text": [
      "/var/folders/zv/8q9mx6qj2hqfytkj6_bjp56h0000gn/T/ipykernel_52879/4249112912.py:4: DtypeWarning: Columns (2) have mixed types. Specify dtype option on import or set low_memory=False.\n",
      "  temp = pd.read_csv(file_csv_name)\n"
     ]
    },
    {
     "name": "stdout",
     "output_type": "stream",
     "text": [
      "data/store/소상공인시장진흥공단_상가(상권)정보_울산_202403.csv\n",
      "data/store/소상공인시장진흥공단_상가(상권)정보_충북_202403.csv\n"
     ]
    },
    {
     "name": "stderr",
     "output_type": "stream",
     "text": [
      "/var/folders/zv/8q9mx6qj2hqfytkj6_bjp56h0000gn/T/ipykernel_52879/4249112912.py:4: DtypeWarning: Columns (2) have mixed types. Specify dtype option on import or set low_memory=False.\n",
      "  temp = pd.read_csv(file_csv_name)\n",
      "/var/folders/zv/8q9mx6qj2hqfytkj6_bjp56h0000gn/T/ipykernel_52879/4249112912.py:4: DtypeWarning: Columns (2) have mixed types. Specify dtype option on import or set low_memory=False.\n",
      "  temp = pd.read_csv(file_csv_name)\n"
     ]
    },
    {
     "name": "stdout",
     "output_type": "stream",
     "text": [
      "data/store/소상공인시장진흥공단_상가(상권)정보_충남_202403.csv\n"
     ]
    },
    {
     "name": "stderr",
     "output_type": "stream",
     "text": [
      "/var/folders/zv/8q9mx6qj2hqfytkj6_bjp56h0000gn/T/ipykernel_52879/4249112912.py:4: DtypeWarning: Columns (2) have mixed types. Specify dtype option on import or set low_memory=False.\n",
      "  temp = pd.read_csv(file_csv_name)\n"
     ]
    },
    {
     "name": "stdout",
     "output_type": "stream",
     "text": [
      "data/store/소상공인시장진흥공단_상가(상권)정보_강원_202403.csv\n"
     ]
    },
    {
     "name": "stderr",
     "output_type": "stream",
     "text": [
      "/var/folders/zv/8q9mx6qj2hqfytkj6_bjp56h0000gn/T/ipykernel_52879/4249112912.py:4: DtypeWarning: Columns (2) have mixed types. Specify dtype option on import or set low_memory=False.\n",
      "  temp = pd.read_csv(file_csv_name)\n"
     ]
    },
    {
     "name": "stdout",
     "output_type": "stream",
     "text": [
      "data/store/소상공인시장진흥공단_상가(상권)정보_광주_202403.csv\n"
     ]
    },
    {
     "name": "stderr",
     "output_type": "stream",
     "text": [
      "/var/folders/zv/8q9mx6qj2hqfytkj6_bjp56h0000gn/T/ipykernel_52879/4249112912.py:4: DtypeWarning: Columns (2) have mixed types. Specify dtype option on import or set low_memory=False.\n",
      "  temp = pd.read_csv(file_csv_name)\n"
     ]
    },
    {
     "name": "stdout",
     "output_type": "stream",
     "text": [
      "data/store/소상공인시장진흥공단_상가(상권)정보_전북_202403.csv\n"
     ]
    },
    {
     "name": "stderr",
     "output_type": "stream",
     "text": [
      "/var/folders/zv/8q9mx6qj2hqfytkj6_bjp56h0000gn/T/ipykernel_52879/4249112912.py:4: DtypeWarning: Columns (2) have mixed types. Specify dtype option on import or set low_memory=False.\n",
      "  temp = pd.read_csv(file_csv_name)\n"
     ]
    },
    {
     "name": "stdout",
     "output_type": "stream",
     "text": [
      "data/store/소상공인시장진흥공단_상가(상권)정보_경북_202403.csv\n"
     ]
    },
    {
     "name": "stderr",
     "output_type": "stream",
     "text": [
      "/var/folders/zv/8q9mx6qj2hqfytkj6_bjp56h0000gn/T/ipykernel_52879/4249112912.py:4: DtypeWarning: Columns (2,35) have mixed types. Specify dtype option on import or set low_memory=False.\n",
      "  temp = pd.read_csv(file_csv_name)\n"
     ]
    },
    {
     "name": "stdout",
     "output_type": "stream",
     "text": [
      "data/store/소상공인시장진흥공단_상가(상권)정보_인천_202403.csv\n"
     ]
    },
    {
     "name": "stderr",
     "output_type": "stream",
     "text": [
      "/var/folders/zv/8q9mx6qj2hqfytkj6_bjp56h0000gn/T/ipykernel_52879/4249112912.py:4: DtypeWarning: Columns (2) have mixed types. Specify dtype option on import or set low_memory=False.\n",
      "  temp = pd.read_csv(file_csv_name)\n"
     ]
    },
    {
     "name": "stdout",
     "output_type": "stream",
     "text": [
      "data/store/소상공인시장진흥공단_상가(상권)정보_경남_202403.csv\n"
     ]
    },
    {
     "name": "stderr",
     "output_type": "stream",
     "text": [
      "/var/folders/zv/8q9mx6qj2hqfytkj6_bjp56h0000gn/T/ipykernel_52879/4249112912.py:4: DtypeWarning: Columns (2) have mixed types. Specify dtype option on import or set low_memory=False.\n",
      "  temp = pd.read_csv(file_csv_name)\n"
     ]
    },
    {
     "name": "stdout",
     "output_type": "stream",
     "text": [
      "data/store/소상공인시장진흥공단_상가(상권)정보_전남_202403.csv\n"
     ]
    },
    {
     "name": "stderr",
     "output_type": "stream",
     "text": [
      "/var/folders/zv/8q9mx6qj2hqfytkj6_bjp56h0000gn/T/ipykernel_52879/4249112912.py:4: DtypeWarning: Columns (2) have mixed types. Specify dtype option on import or set low_memory=False.\n",
      "  temp = pd.read_csv(file_csv_name)\n"
     ]
    }
   ],
   "source": [
    "file_list = []\n",
    "for file_csv_name in file_csv:\n",
    "    print(file_csv_name)\n",
    "    temp = pd.read_csv(file_csv_name)\n",
    "    file_list.append(temp)"
   ]
  },
  {
   "cell_type": "code",
   "execution_count": 20,
   "id": "c2e18aab-89e1-439a-8979-69dd0f5699fc",
   "metadata": {},
   "outputs": [
    {
     "data": {
      "text/html": [
       "<div>\n",
       "<style scoped>\n",
       "    .dataframe tbody tr th:only-of-type {\n",
       "        vertical-align: middle;\n",
       "    }\n",
       "\n",
       "    .dataframe tbody tr th {\n",
       "        vertical-align: top;\n",
       "    }\n",
       "\n",
       "    .dataframe thead th {\n",
       "        text-align: right;\n",
       "    }\n",
       "</style>\n",
       "<table border=\"1\" class=\"dataframe\">\n",
       "  <thead>\n",
       "    <tr style=\"text-align: right;\">\n",
       "      <th></th>\n",
       "      <th>상가업소번호</th>\n",
       "      <th>상호명</th>\n",
       "      <th>지점명</th>\n",
       "      <th>상권업종대분류코드</th>\n",
       "      <th>상권업종대분류명</th>\n",
       "      <th>상권업종중분류코드</th>\n",
       "      <th>상권업종중분류명</th>\n",
       "      <th>상권업종소분류코드</th>\n",
       "      <th>상권업종소분류명</th>\n",
       "      <th>표준산업분류코드</th>\n",
       "      <th>...</th>\n",
       "      <th>건물관리번호</th>\n",
       "      <th>건물명</th>\n",
       "      <th>도로명주소</th>\n",
       "      <th>구우편번호</th>\n",
       "      <th>신우편번호</th>\n",
       "      <th>동정보</th>\n",
       "      <th>층정보</th>\n",
       "      <th>호정보</th>\n",
       "      <th>경도</th>\n",
       "      <th>위도</th>\n",
       "    </tr>\n",
       "  </thead>\n",
       "  <tbody>\n",
       "    <tr>\n",
       "      <th>0</th>\n",
       "      <td>MA0101202210A0072343</td>\n",
       "      <td>선해횟집</td>\n",
       "      <td>NaN</td>\n",
       "      <td>I2</td>\n",
       "      <td>음식</td>\n",
       "      <td>I201</td>\n",
       "      <td>한식</td>\n",
       "      <td>I20111</td>\n",
       "      <td>횟집</td>\n",
       "      <td>I56111</td>\n",
       "      <td>...</td>\n",
       "      <td>2641011100100300027023409</td>\n",
       "      <td>NaN</td>\n",
       "      <td>부산광역시 금정구 사천로3번길 2</td>\n",
       "      <td>609808</td>\n",
       "      <td>46264</td>\n",
       "      <td>NaN</td>\n",
       "      <td>1</td>\n",
       "      <td>NaN</td>\n",
       "      <td>129.113321</td>\n",
       "      <td>35.223363</td>\n",
       "    </tr>\n",
       "    <tr>\n",
       "      <th>1</th>\n",
       "      <td>MA010120220805430802</td>\n",
       "      <td>미즈노</td>\n",
       "      <td>NaN</td>\n",
       "      <td>G2</td>\n",
       "      <td>소매</td>\n",
       "      <td>G209</td>\n",
       "      <td>섬유·의복·신발 소매</td>\n",
       "      <td>G20905</td>\n",
       "      <td>기타 의류 소매업</td>\n",
       "      <td>G47419</td>\n",
       "      <td>...</td>\n",
       "      <td>2635010500114960000000001</td>\n",
       "      <td>롯데백화점센텀시티점</td>\n",
       "      <td>부산광역시 해운대구 센텀남대로 59</td>\n",
       "      <td>612022</td>\n",
       "      <td>48058</td>\n",
       "      <td>NaN</td>\n",
       "      <td>5</td>\n",
       "      <td>NaN</td>\n",
       "      <td>129.131099</td>\n",
       "      <td>35.169873</td>\n",
       "    </tr>\n",
       "    <tr>\n",
       "      <th>2</th>\n",
       "      <td>MA010120220805430814</td>\n",
       "      <td>리스트</td>\n",
       "      <td>NaN</td>\n",
       "      <td>G2</td>\n",
       "      <td>소매</td>\n",
       "      <td>G209</td>\n",
       "      <td>섬유·의복·신발 소매</td>\n",
       "      <td>G20902</td>\n",
       "      <td>여성 의류 소매업</td>\n",
       "      <td>G47412</td>\n",
       "      <td>...</td>\n",
       "      <td>2644010400134380000000001</td>\n",
       "      <td>스타필드시티명지점</td>\n",
       "      <td>부산광역시 강서구 명지국제6로 168</td>\n",
       "      <td>618200</td>\n",
       "      <td>46772</td>\n",
       "      <td>NaN</td>\n",
       "      <td>2</td>\n",
       "      <td>NaN</td>\n",
       "      <td>128.918174</td>\n",
       "      <td>35.093125</td>\n",
       "    </tr>\n",
       "    <tr>\n",
       "      <th>3</th>\n",
       "      <td>MA010120220805430900</td>\n",
       "      <td>눈썹그리기교실동안눈썹</td>\n",
       "      <td>NaN</td>\n",
       "      <td>S2</td>\n",
       "      <td>수리·개인</td>\n",
       "      <td>S207</td>\n",
       "      <td>이용·미용</td>\n",
       "      <td>S20702</td>\n",
       "      <td>피부 관리실</td>\n",
       "      <td>S96113</td>\n",
       "      <td>...</td>\n",
       "      <td>2632010200122720005015331</td>\n",
       "      <td>현호타워</td>\n",
       "      <td>부산광역시 북구 화명대로 31</td>\n",
       "      <td>616852</td>\n",
       "      <td>46525</td>\n",
       "      <td>NaN</td>\n",
       "      <td>NaN</td>\n",
       "      <td>NaN</td>\n",
       "      <td>129.011641</td>\n",
       "      <td>35.235217</td>\n",
       "    </tr>\n",
       "    <tr>\n",
       "      <th>4</th>\n",
       "      <td>MA010120220805430948</td>\n",
       "      <td>안심공인중개사무소</td>\n",
       "      <td>NaN</td>\n",
       "      <td>L1</td>\n",
       "      <td>부동산</td>\n",
       "      <td>L102</td>\n",
       "      <td>부동산 서비스</td>\n",
       "      <td>L10203</td>\n",
       "      <td>부동산 중개/대리업</td>\n",
       "      <td>L68221</td>\n",
       "      <td>...</td>\n",
       "      <td>2647010200103980025013248</td>\n",
       "      <td>NaN</td>\n",
       "      <td>부산광역시 연제구 연안로13번길 85</td>\n",
       "      <td>611817</td>\n",
       "      <td>47565</td>\n",
       "      <td>NaN</td>\n",
       "      <td>1</td>\n",
       "      <td>NaN</td>\n",
       "      <td>129.102386</td>\n",
       "      <td>35.188814</td>\n",
       "    </tr>\n",
       "    <tr>\n",
       "      <th>...</th>\n",
       "      <td>...</td>\n",
       "      <td>...</td>\n",
       "      <td>...</td>\n",
       "      <td>...</td>\n",
       "      <td>...</td>\n",
       "      <td>...</td>\n",
       "      <td>...</td>\n",
       "      <td>...</td>\n",
       "      <td>...</td>\n",
       "      <td>...</td>\n",
       "      <td>...</td>\n",
       "      <td>...</td>\n",
       "      <td>...</td>\n",
       "      <td>...</td>\n",
       "      <td>...</td>\n",
       "      <td>...</td>\n",
       "      <td>...</td>\n",
       "      <td>...</td>\n",
       "      <td>...</td>\n",
       "      <td>...</td>\n",
       "      <td>...</td>\n",
       "    </tr>\n",
       "    <tr>\n",
       "      <th>147290</th>\n",
       "      <td>MA0101202310A0049018</td>\n",
       "      <td>용공장</td>\n",
       "      <td>NaN</td>\n",
       "      <td>I2</td>\n",
       "      <td>음식</td>\n",
       "      <td>I201</td>\n",
       "      <td>한식</td>\n",
       "      <td>I20107</td>\n",
       "      <td>돼지고기 구이/찜</td>\n",
       "      <td>I56111</td>\n",
       "      <td>...</td>\n",
       "      <td>2671025022103440010000001</td>\n",
       "      <td>NaN</td>\n",
       "      <td>부산광역시 기장군 기장읍 차성로390번길 23</td>\n",
       "      <td>619901</td>\n",
       "      <td>46056</td>\n",
       "      <td>NaN</td>\n",
       "      <td>1</td>\n",
       "      <td>NaN</td>\n",
       "      <td>129.216824</td>\n",
       "      <td>35.252482</td>\n",
       "    </tr>\n",
       "    <tr>\n",
       "      <th>147291</th>\n",
       "      <td>MA0101202310A0052436</td>\n",
       "      <td>유미노래방</td>\n",
       "      <td>NaN</td>\n",
       "      <td>I2</td>\n",
       "      <td>음식</td>\n",
       "      <td>I211</td>\n",
       "      <td>주점</td>\n",
       "      <td>I21101</td>\n",
       "      <td>일반 유흥 주점</td>\n",
       "      <td>I56211</td>\n",
       "      <td>...</td>\n",
       "      <td>2641011000102020009017615</td>\n",
       "      <td>NaN</td>\n",
       "      <td>부산광역시 금정구 서동로176번길 14-2</td>\n",
       "      <td>609849</td>\n",
       "      <td>46327</td>\n",
       "      <td>NaN</td>\n",
       "      <td>2</td>\n",
       "      <td>NaN</td>\n",
       "      <td>129.105208</td>\n",
       "      <td>35.214009</td>\n",
       "    </tr>\n",
       "    <tr>\n",
       "      <th>147292</th>\n",
       "      <td>MA0101202310A0048331</td>\n",
       "      <td>큰집밀양순대돼지국밥</td>\n",
       "      <td>부산역점</td>\n",
       "      <td>I2</td>\n",
       "      <td>음식</td>\n",
       "      <td>I201</td>\n",
       "      <td>한식</td>\n",
       "      <td>I20101</td>\n",
       "      <td>백반/한정식</td>\n",
       "      <td>I56111</td>\n",
       "      <td>...</td>\n",
       "      <td>2617010100103480002010381</td>\n",
       "      <td>NaN</td>\n",
       "      <td>부산광역시 동구 중앙대로231번길 5</td>\n",
       "      <td>601829</td>\n",
       "      <td>48815</td>\n",
       "      <td>NaN</td>\n",
       "      <td>1</td>\n",
       "      <td>NaN</td>\n",
       "      <td>129.040652</td>\n",
       "      <td>35.117817</td>\n",
       "    </tr>\n",
       "    <tr>\n",
       "      <th>147293</th>\n",
       "      <td>MA0101202310A0055762</td>\n",
       "      <td>바르미부산</td>\n",
       "      <td>서면점</td>\n",
       "      <td>I2</td>\n",
       "      <td>음식</td>\n",
       "      <td>I201</td>\n",
       "      <td>한식</td>\n",
       "      <td>I20101</td>\n",
       "      <td>백반/한정식</td>\n",
       "      <td>I56111</td>\n",
       "      <td>...</td>\n",
       "      <td>2623010300105030015004104</td>\n",
       "      <td>롯데백화점부산본점</td>\n",
       "      <td>부산광역시 부산진구 가야대로 772</td>\n",
       "      <td>614732</td>\n",
       "      <td>47285</td>\n",
       "      <td>NaN</td>\n",
       "      <td>9</td>\n",
       "      <td>NaN</td>\n",
       "      <td>129.056438</td>\n",
       "      <td>35.156810</td>\n",
       "    </tr>\n",
       "    <tr>\n",
       "      <th>147294</th>\n",
       "      <td>MA0101202310A0083091</td>\n",
       "      <td>광안취향</td>\n",
       "      <td>NaN</td>\n",
       "      <td>I2</td>\n",
       "      <td>음식</td>\n",
       "      <td>I201</td>\n",
       "      <td>한식</td>\n",
       "      <td>I20101</td>\n",
       "      <td>백반/한정식</td>\n",
       "      <td>I56111</td>\n",
       "      <td>...</td>\n",
       "      <td>2650010300101720003002474</td>\n",
       "      <td>NaN</td>\n",
       "      <td>부산광역시 수영구 민락로14번길 7</td>\n",
       "      <td>613828</td>\n",
       "      <td>48286</td>\n",
       "      <td>NaN</td>\n",
       "      <td>2</td>\n",
       "      <td>NaN</td>\n",
       "      <td>129.122755</td>\n",
       "      <td>35.156953</td>\n",
       "    </tr>\n",
       "  </tbody>\n",
       "</table>\n",
       "<p>147295 rows × 39 columns</p>\n",
       "</div>"
      ],
      "text/plain": [
       "                      상가업소번호          상호명   지점명 상권업종대분류코드 상권업종대분류명 상권업종중분류코드  \\\n",
       "0       MA0101202210A0072343         선해횟집   NaN        I2       음식      I201   \n",
       "1       MA010120220805430802          미즈노   NaN        G2       소매      G209   \n",
       "2       MA010120220805430814          리스트   NaN        G2       소매      G209   \n",
       "3       MA010120220805430900  눈썹그리기교실동안눈썹   NaN        S2    수리·개인      S207   \n",
       "4       MA010120220805430948    안심공인중개사무소   NaN        L1      부동산      L102   \n",
       "...                      ...          ...   ...       ...      ...       ...   \n",
       "147290  MA0101202310A0049018          용공장   NaN        I2       음식      I201   \n",
       "147291  MA0101202310A0052436        유미노래방   NaN        I2       음식      I211   \n",
       "147292  MA0101202310A0048331   큰집밀양순대돼지국밥  부산역점        I2       음식      I201   \n",
       "147293  MA0101202310A0055762        바르미부산   서면점        I2       음식      I201   \n",
       "147294  MA0101202310A0083091         광안취향   NaN        I2       음식      I201   \n",
       "\n",
       "           상권업종중분류명 상권업종소분류코드    상권업종소분류명 표준산업분류코드  ...  \\\n",
       "0                한식    I20111          횟집   I56111  ...   \n",
       "1       섬유·의복·신발 소매    G20905   기타 의류 소매업   G47419  ...   \n",
       "2       섬유·의복·신발 소매    G20902   여성 의류 소매업   G47412  ...   \n",
       "3             이용·미용    S20702      피부 관리실   S96113  ...   \n",
       "4           부동산 서비스    L10203  부동산 중개/대리업   L68221  ...   \n",
       "...             ...       ...         ...      ...  ...   \n",
       "147290           한식    I20107   돼지고기 구이/찜   I56111  ...   \n",
       "147291           주점    I21101    일반 유흥 주점   I56211  ...   \n",
       "147292           한식    I20101      백반/한정식   I56111  ...   \n",
       "147293           한식    I20101      백반/한정식   I56111  ...   \n",
       "147294           한식    I20101      백반/한정식   I56111  ...   \n",
       "\n",
       "                           건물관리번호         건물명                      도로명주소  \\\n",
       "0       2641011100100300027023409         NaN         부산광역시 금정구 사천로3번길 2   \n",
       "1       2635010500114960000000001  롯데백화점센텀시티점        부산광역시 해운대구 센텀남대로 59   \n",
       "2       2644010400134380000000001   스타필드시티명지점       부산광역시 강서구 명지국제6로 168   \n",
       "3       2632010200122720005015331        현호타워           부산광역시 북구 화명대로 31   \n",
       "4       2647010200103980025013248         NaN       부산광역시 연제구 연안로13번길 85   \n",
       "...                           ...         ...                        ...   \n",
       "147290  2671025022103440010000001         NaN  부산광역시 기장군 기장읍 차성로390번길 23   \n",
       "147291  2641011000102020009017615         NaN    부산광역시 금정구 서동로176번길 14-2   \n",
       "147292  2617010100103480002010381         NaN       부산광역시 동구 중앙대로231번길 5   \n",
       "147293  2623010300105030015004104   롯데백화점부산본점        부산광역시 부산진구 가야대로 772   \n",
       "147294  2650010300101720003002474         NaN        부산광역시 수영구 민락로14번길 7   \n",
       "\n",
       "         구우편번호  신우편번호  동정보  층정보  호정보          경도         위도  \n",
       "0       609808  46264  NaN    1  NaN  129.113321  35.223363  \n",
       "1       612022  48058  NaN    5  NaN  129.131099  35.169873  \n",
       "2       618200  46772  NaN    2  NaN  128.918174  35.093125  \n",
       "3       616852  46525  NaN  NaN  NaN  129.011641  35.235217  \n",
       "4       611817  47565  NaN    1  NaN  129.102386  35.188814  \n",
       "...        ...    ...  ...  ...  ...         ...        ...  \n",
       "147290  619901  46056  NaN    1  NaN  129.216824  35.252482  \n",
       "147291  609849  46327  NaN    2  NaN  129.105208  35.214009  \n",
       "147292  601829  48815  NaN    1  NaN  129.040652  35.117817  \n",
       "147293  614732  47285  NaN    9  NaN  129.056438  35.156810  \n",
       "147294  613828  48286  NaN    2  NaN  129.122755  35.156953  \n",
       "\n",
       "[147295 rows x 39 columns]"
      ]
     },
     "execution_count": 20,
     "metadata": {},
     "output_type": "execute_result"
    }
   ],
   "source": [
    "file_list[0]"
   ]
  },
  {
   "cell_type": "code",
   "execution_count": 24,
   "id": "78c50cc5-359a-4338-b167-a3d5065e4a16",
   "metadata": {},
   "outputs": [
    {
     "data": {
      "text/plain": [
       "17"
      ]
     },
     "execution_count": 24,
     "metadata": {},
     "output_type": "execute_result"
    }
   ],
   "source": [
    "len(file_list) "
   ]
  },
  {
   "cell_type": "code",
   "execution_count": 21,
   "id": "12e5a65d-5c4d-4e91-85b5-59f83a4f5476",
   "metadata": {},
   "outputs": [
    {
     "data": {
      "text/plain": [
       "(2418939, 39)"
      ]
     },
     "execution_count": 21,
     "metadata": {},
     "output_type": "execute_result"
    }
   ],
   "source": [
    "df = pd.concat(file_list)#17개의 지역의 파일을 합침\n",
    "df.shape"
   ]
  },
  {
   "cell_type": "code",
   "execution_count": 23,
   "id": "3b7a67c1-a58c-4482-a500-d272793b7bf1",
   "metadata": {},
   "outputs": [
    {
     "name": "stdout",
     "output_type": "stream",
     "text": [
      "<class 'pandas.core.frame.DataFrame'>\n",
      "Index: 2418939 entries, 0 to 93775\n",
      "Data columns (total 39 columns):\n",
      " #   Column     Dtype  \n",
      "---  ------     -----  \n",
      " 0   상가업소번호     object \n",
      " 1   상호명        object \n",
      " 2   지점명        object \n",
      " 3   상권업종대분류코드  object \n",
      " 4   상권업종대분류명   object \n",
      " 5   상권업종중분류코드  object \n",
      " 6   상권업종중분류명   object \n",
      " 7   상권업종소분류코드  object \n",
      " 8   상권업종소분류명   object \n",
      " 9   표준산업분류코드   object \n",
      " 10  표준산업분류명    object \n",
      " 11  시도코드       int64  \n",
      " 12  시도명        object \n",
      " 13  시군구코드      int64  \n",
      " 14  시군구명       object \n",
      " 15  행정동코드      int64  \n",
      " 16  행정동명       object \n",
      " 17  법정동코드      int64  \n",
      " 18  법정동명       object \n",
      " 19  지번코드       int64  \n",
      " 20  대지구분코드     int64  \n",
      " 21  대지구분명      object \n",
      " 22  지번본번지      float64\n",
      " 23  지번부번지      float64\n",
      " 24  지번주소       object \n",
      " 25  도로명코드      float64\n",
      " 26  도로명        object \n",
      " 27  건물본번지      float64\n",
      " 28  건물부번지      float64\n",
      " 29  건물관리번호     object \n",
      " 30  건물명        object \n",
      " 31  도로명주소      object \n",
      " 32  구우편번호      int64  \n",
      " 33  신우편번호      int64  \n",
      " 34  동정보        float64\n",
      " 35  층정보        object \n",
      " 36  호정보        float64\n",
      " 37  경도         float64\n",
      " 38  위도         float64\n",
      "dtypes: float64(9), int64(8), object(22)\n",
      "memory usage: 738.2+ MB\n"
     ]
    }
   ],
   "source": [
    "df.info()"
   ]
  },
  {
   "cell_type": "code",
   "execution_count": null,
   "id": "7f6e9fa5-88e8-4296-ad2b-7adc94988cf9",
   "metadata": {},
   "outputs": [],
   "source": []
  }
 ],
 "metadata": {
  "kernelspec": {
   "display_name": "Python 3 (ipykernel)",
   "language": "python",
   "name": "python3"
  },
  "language_info": {
   "codemirror_mode": {
    "name": "ipython",
    "version": 3
   },
   "file_extension": ".py",
   "mimetype": "text/x-python",
   "name": "python",
   "nbconvert_exporter": "python",
   "pygments_lexer": "ipython3",
   "version": "3.11.7"
  }
 },
 "nbformat": 4,
 "nbformat_minor": 5
}
